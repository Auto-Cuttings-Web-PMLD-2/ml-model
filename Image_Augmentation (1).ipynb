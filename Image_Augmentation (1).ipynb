{
  "nbformat": 4,
  "nbformat_minor": 0,
  "metadata": {
    "colab": {
      "provenance": [],
      "gpuType": "T4"
    },
    "kernelspec": {
      "name": "python3",
      "display_name": "Python 3"
    },
    "language_info": {
      "name": "python"
    },
    "accelerator": "GPU"
  },
  "cells": [
    {
      "cell_type": "markdown",
      "source": [
        "# install library for image augmentation"
      ],
      "metadata": {
        "id": "iMndhJ-5sH6N"
      }
    },
    {
      "cell_type": "code",
      "source": [
        "!pip install albumentations"
      ],
      "metadata": {
        "colab": {
          "base_uri": "https://localhost:8080/"
        },
        "id": "cx_ciKQE6TpG",
        "outputId": "d7cb69db-22c3-4dc9-fd8a-1901fc8804ba"
      },
      "execution_count": null,
      "outputs": [
        {
          "output_type": "stream",
          "name": "stdout",
          "text": [
            "Requirement already satisfied: albumentations in /usr/local/lib/python3.11/dist-packages (2.0.6)\n",
            "Requirement already satisfied: numpy>=1.24.4 in /usr/local/lib/python3.11/dist-packages (from albumentations) (2.0.2)\n",
            "Requirement already satisfied: scipy>=1.10.0 in /usr/local/lib/python3.11/dist-packages (from albumentations) (1.15.2)\n",
            "Requirement already satisfied: PyYAML in /usr/local/lib/python3.11/dist-packages (from albumentations) (6.0.2)\n",
            "Requirement already satisfied: pydantic>=2.9.2 in /usr/local/lib/python3.11/dist-packages (from albumentations) (2.11.4)\n",
            "Requirement already satisfied: albucore==0.0.24 in /usr/local/lib/python3.11/dist-packages (from albumentations) (0.0.24)\n",
            "Requirement already satisfied: opencv-python-headless>=4.9.0.80 in /usr/local/lib/python3.11/dist-packages (from albumentations) (4.11.0.86)\n",
            "Requirement already satisfied: stringzilla>=3.10.4 in /usr/local/lib/python3.11/dist-packages (from albucore==0.0.24->albumentations) (3.12.5)\n",
            "Requirement already satisfied: simsimd>=5.9.2 in /usr/local/lib/python3.11/dist-packages (from albucore==0.0.24->albumentations) (6.2.1)\n",
            "Requirement already satisfied: annotated-types>=0.6.0 in /usr/local/lib/python3.11/dist-packages (from pydantic>=2.9.2->albumentations) (0.7.0)\n",
            "Requirement already satisfied: pydantic-core==2.33.2 in /usr/local/lib/python3.11/dist-packages (from pydantic>=2.9.2->albumentations) (2.33.2)\n",
            "Requirement already satisfied: typing-extensions>=4.12.2 in /usr/local/lib/python3.11/dist-packages (from pydantic>=2.9.2->albumentations) (4.13.2)\n",
            "Requirement already satisfied: typing-inspection>=0.4.0 in /usr/local/lib/python3.11/dist-packages (from pydantic>=2.9.2->albumentations) (0.4.0)\n"
          ]
        }
      ]
    },
    {
      "cell_type": "markdown",
      "source": [
        "# import library"
      ],
      "metadata": {
        "id": "7QTTrl2ZsWHq"
      }
    },
    {
      "cell_type": "code",
      "execution_count": null,
      "metadata": {
        "id": "KyIdE3aK5s-j"
      },
      "outputs": [],
      "source": [
        "import os\n",
        "import json\n",
        "import cv2\n",
        "import albumentations as A\n",
        "from tqdm import tqdm"
      ]
    },
    {
      "cell_type": "markdown",
      "source": [
        "# check directory and mount drive"
      ],
      "metadata": {
        "id": "EuCzOpwNscMZ"
      }
    },
    {
      "cell_type": "code",
      "source": [
        "from google.colab import drive\n",
        "\n",
        "# Check if the directory is already mounted\n",
        "import os\n",
        "if not os.path.exists('/content/drive/'):\n",
        "  # Mount the drive if it's not mounted\n",
        "  drive.mount('/content/drive/MyDrive/PMLD_new')\n",
        "else:\n",
        "  print(\"Drive is already mounted at /content/drive/MyDrive/PMLD_new\")"
      ],
      "metadata": {
        "colab": {
          "base_uri": "https://localhost:8080/"
        },
        "id": "xu2LJbcJ5xw2",
        "outputId": "dc60b5ca-a34b-4aa7-b881-35ffc7818fe3"
      },
      "execution_count": null,
      "outputs": [
        {
          "output_type": "stream",
          "name": "stdout",
          "text": [
            "Drive is already mounted at /content/drive/MyDrive/PMLD_new\n"
          ]
        }
      ]
    },
    {
      "cell_type": "markdown",
      "source": [
        "# path check"
      ],
      "metadata": {
        "id": "hglWKJakshBT"
      }
    },
    {
      "cell_type": "code",
      "source": [
        "# Cek path\n",
        "!ls '/content/drive/MyDrive/PMLD_new/rock_dataset'"
      ],
      "metadata": {
        "colab": {
          "base_uri": "https://localhost:8080/"
        },
        "id": "r2a6negL56QO",
        "outputId": "a254ef15-eed7-469b-d9ef-68b395e919e8"
      },
      "execution_count": null,
      "outputs": [
        {
          "output_type": "stream",
          "name": "stdout",
          "text": [
            "augmented  images  json  masks\n"
          ]
        }
      ]
    },
    {
      "cell_type": "markdown",
      "source": [
        "# source path"
      ],
      "metadata": {
        "id": "2kGh1b22smfw"
      }
    },
    {
      "cell_type": "code",
      "source": [
        "image_dir = '/content/drive/MyDrive/PMLD_new/rock_dataset/images'\n",
        "json_path = '/content/drive/MyDrive/PMLD_new/rock_dataset/json'\n",
        "output_dir = '/content/drive/MyDrive/PMLD_new/rock_dataset/augmented'\n",
        "os.makedirs(output_dir, exist_ok=True)"
      ],
      "metadata": {
        "id": "J2pA_g167lu8"
      },
      "execution_count": null,
      "outputs": []
    },
    {
      "cell_type": "markdown",
      "source": [
        "# images and json files mapping"
      ],
      "metadata": {
        "id": "iUcDgJHOszE-"
      }
    },
    {
      "cell_type": "code",
      "source": [
        "import pandas as pd\n",
        "\n",
        "json_files = [f for f in os.listdir(json_path) if f.endswith('.json')]\n",
        "image_files = [f for f in os.listdir(image_dir) if f.endswith(('.png','.jpg'))]\n",
        "\n",
        "# Buat mapping\n",
        "data = []\n",
        "for j in json_files:\n",
        "    img_id = j.split('_')[-1].replace('.json', '')\n",
        "    matching_imgs = [i for i in image_files if i.startswith(img_id)]\n",
        "    data.append({\n",
        "        'json_file': j,\n",
        "        'image_files': matching_imgs,\n",
        "        'status': 'MATCHED' if matching_imgs else 'NO MATCH'\n",
        "    })\n",
        "\n",
        "pd.DataFrame(data)"
      ],
      "metadata": {
        "colab": {
          "base_uri": "https://localhost:8080/",
          "height": 332
        },
        "id": "KBh9xKx3-c_c",
        "outputId": "7fdb8047-56bb-43e9-d445-6a27afee757b"
      },
      "execution_count": null,
      "outputs": [
        {
          "output_type": "execute_result",
          "data": {
            "text/plain": [
              "                 json_file image_files   status\n",
              "0  labels_segmen_0005.json  [0005.png]  MATCHED\n",
              "1  labels_segmen_0002.json  [0002.png]  MATCHED\n",
              "2  labels_segmen_0001.json  [0001.png]  MATCHED\n",
              "3  labels_segmen_0004.json  [0004.png]  MATCHED\n",
              "4  labels_segmen_0006.json  [0006.png]  MATCHED\n",
              "5  labels_segmen_0008.json  [0008.png]  MATCHED\n",
              "6  labels_segmen_0009.json  [0009.png]  MATCHED\n",
              "7  labels_segmen_0007.json  [0007.png]  MATCHED\n",
              "8  labels_segmen_0010.json  [0010.png]  MATCHED"
            ],
            "text/html": [
              "\n",
              "  <div id=\"df-ee74a554-4928-480f-b53a-0135f59ef705\" class=\"colab-df-container\">\n",
              "    <div>\n",
              "<style scoped>\n",
              "    .dataframe tbody tr th:only-of-type {\n",
              "        vertical-align: middle;\n",
              "    }\n",
              "\n",
              "    .dataframe tbody tr th {\n",
              "        vertical-align: top;\n",
              "    }\n",
              "\n",
              "    .dataframe thead th {\n",
              "        text-align: right;\n",
              "    }\n",
              "</style>\n",
              "<table border=\"1\" class=\"dataframe\">\n",
              "  <thead>\n",
              "    <tr style=\"text-align: right;\">\n",
              "      <th></th>\n",
              "      <th>json_file</th>\n",
              "      <th>image_files</th>\n",
              "      <th>status</th>\n",
              "    </tr>\n",
              "  </thead>\n",
              "  <tbody>\n",
              "    <tr>\n",
              "      <th>0</th>\n",
              "      <td>labels_segmen_0005.json</td>\n",
              "      <td>[0005.png]</td>\n",
              "      <td>MATCHED</td>\n",
              "    </tr>\n",
              "    <tr>\n",
              "      <th>1</th>\n",
              "      <td>labels_segmen_0002.json</td>\n",
              "      <td>[0002.png]</td>\n",
              "      <td>MATCHED</td>\n",
              "    </tr>\n",
              "    <tr>\n",
              "      <th>2</th>\n",
              "      <td>labels_segmen_0001.json</td>\n",
              "      <td>[0001.png]</td>\n",
              "      <td>MATCHED</td>\n",
              "    </tr>\n",
              "    <tr>\n",
              "      <th>3</th>\n",
              "      <td>labels_segmen_0004.json</td>\n",
              "      <td>[0004.png]</td>\n",
              "      <td>MATCHED</td>\n",
              "    </tr>\n",
              "    <tr>\n",
              "      <th>4</th>\n",
              "      <td>labels_segmen_0006.json</td>\n",
              "      <td>[0006.png]</td>\n",
              "      <td>MATCHED</td>\n",
              "    </tr>\n",
              "    <tr>\n",
              "      <th>5</th>\n",
              "      <td>labels_segmen_0008.json</td>\n",
              "      <td>[0008.png]</td>\n",
              "      <td>MATCHED</td>\n",
              "    </tr>\n",
              "    <tr>\n",
              "      <th>6</th>\n",
              "      <td>labels_segmen_0009.json</td>\n",
              "      <td>[0009.png]</td>\n",
              "      <td>MATCHED</td>\n",
              "    </tr>\n",
              "    <tr>\n",
              "      <th>7</th>\n",
              "      <td>labels_segmen_0007.json</td>\n",
              "      <td>[0007.png]</td>\n",
              "      <td>MATCHED</td>\n",
              "    </tr>\n",
              "    <tr>\n",
              "      <th>8</th>\n",
              "      <td>labels_segmen_0010.json</td>\n",
              "      <td>[0010.png]</td>\n",
              "      <td>MATCHED</td>\n",
              "    </tr>\n",
              "  </tbody>\n",
              "</table>\n",
              "</div>\n",
              "    <div class=\"colab-df-buttons\">\n",
              "\n",
              "  <div class=\"colab-df-container\">\n",
              "    <button class=\"colab-df-convert\" onclick=\"convertToInteractive('df-ee74a554-4928-480f-b53a-0135f59ef705')\"\n",
              "            title=\"Convert this dataframe to an interactive table.\"\n",
              "            style=\"display:none;\">\n",
              "\n",
              "  <svg xmlns=\"http://www.w3.org/2000/svg\" height=\"24px\" viewBox=\"0 -960 960 960\">\n",
              "    <path d=\"M120-120v-720h720v720H120Zm60-500h600v-160H180v160Zm220 220h160v-160H400v160Zm0 220h160v-160H400v160ZM180-400h160v-160H180v160Zm440 0h160v-160H620v160ZM180-180h160v-160H180v160Zm440 0h160v-160H620v160Z\"/>\n",
              "  </svg>\n",
              "    </button>\n",
              "\n",
              "  <style>\n",
              "    .colab-df-container {\n",
              "      display:flex;\n",
              "      gap: 12px;\n",
              "    }\n",
              "\n",
              "    .colab-df-convert {\n",
              "      background-color: #E8F0FE;\n",
              "      border: none;\n",
              "      border-radius: 50%;\n",
              "      cursor: pointer;\n",
              "      display: none;\n",
              "      fill: #1967D2;\n",
              "      height: 32px;\n",
              "      padding: 0 0 0 0;\n",
              "      width: 32px;\n",
              "    }\n",
              "\n",
              "    .colab-df-convert:hover {\n",
              "      background-color: #E2EBFA;\n",
              "      box-shadow: 0px 1px 2px rgba(60, 64, 67, 0.3), 0px 1px 3px 1px rgba(60, 64, 67, 0.15);\n",
              "      fill: #174EA6;\n",
              "    }\n",
              "\n",
              "    .colab-df-buttons div {\n",
              "      margin-bottom: 4px;\n",
              "    }\n",
              "\n",
              "    [theme=dark] .colab-df-convert {\n",
              "      background-color: #3B4455;\n",
              "      fill: #D2E3FC;\n",
              "    }\n",
              "\n",
              "    [theme=dark] .colab-df-convert:hover {\n",
              "      background-color: #434B5C;\n",
              "      box-shadow: 0px 1px 3px 1px rgba(0, 0, 0, 0.15);\n",
              "      filter: drop-shadow(0px 1px 2px rgba(0, 0, 0, 0.3));\n",
              "      fill: #FFFFFF;\n",
              "    }\n",
              "  </style>\n",
              "\n",
              "    <script>\n",
              "      const buttonEl =\n",
              "        document.querySelector('#df-ee74a554-4928-480f-b53a-0135f59ef705 button.colab-df-convert');\n",
              "      buttonEl.style.display =\n",
              "        google.colab.kernel.accessAllowed ? 'block' : 'none';\n",
              "\n",
              "      async function convertToInteractive(key) {\n",
              "        const element = document.querySelector('#df-ee74a554-4928-480f-b53a-0135f59ef705');\n",
              "        const dataTable =\n",
              "          await google.colab.kernel.invokeFunction('convertToInteractive',\n",
              "                                                    [key], {});\n",
              "        if (!dataTable) return;\n",
              "\n",
              "        const docLinkHtml = 'Like what you see? Visit the ' +\n",
              "          '<a target=\"_blank\" href=https://colab.research.google.com/notebooks/data_table.ipynb>data table notebook</a>'\n",
              "          + ' to learn more about interactive tables.';\n",
              "        element.innerHTML = '';\n",
              "        dataTable['output_type'] = 'display_data';\n",
              "        await google.colab.output.renderOutput(dataTable, element);\n",
              "        const docLink = document.createElement('div');\n",
              "        docLink.innerHTML = docLinkHtml;\n",
              "        element.appendChild(docLink);\n",
              "      }\n",
              "    </script>\n",
              "  </div>\n",
              "\n",
              "\n",
              "    <div id=\"df-ccd2cffe-cb14-4404-afc1-2709552bcf26\">\n",
              "      <button class=\"colab-df-quickchart\" onclick=\"quickchart('df-ccd2cffe-cb14-4404-afc1-2709552bcf26')\"\n",
              "                title=\"Suggest charts\"\n",
              "                style=\"display:none;\">\n",
              "\n",
              "<svg xmlns=\"http://www.w3.org/2000/svg\" height=\"24px\"viewBox=\"0 0 24 24\"\n",
              "     width=\"24px\">\n",
              "    <g>\n",
              "        <path d=\"M19 3H5c-1.1 0-2 .9-2 2v14c0 1.1.9 2 2 2h14c1.1 0 2-.9 2-2V5c0-1.1-.9-2-2-2zM9 17H7v-7h2v7zm4 0h-2V7h2v10zm4 0h-2v-4h2v4z\"/>\n",
              "    </g>\n",
              "</svg>\n",
              "      </button>\n",
              "\n",
              "<style>\n",
              "  .colab-df-quickchart {\n",
              "      --bg-color: #E8F0FE;\n",
              "      --fill-color: #1967D2;\n",
              "      --hover-bg-color: #E2EBFA;\n",
              "      --hover-fill-color: #174EA6;\n",
              "      --disabled-fill-color: #AAA;\n",
              "      --disabled-bg-color: #DDD;\n",
              "  }\n",
              "\n",
              "  [theme=dark] .colab-df-quickchart {\n",
              "      --bg-color: #3B4455;\n",
              "      --fill-color: #D2E3FC;\n",
              "      --hover-bg-color: #434B5C;\n",
              "      --hover-fill-color: #FFFFFF;\n",
              "      --disabled-bg-color: #3B4455;\n",
              "      --disabled-fill-color: #666;\n",
              "  }\n",
              "\n",
              "  .colab-df-quickchart {\n",
              "    background-color: var(--bg-color);\n",
              "    border: none;\n",
              "    border-radius: 50%;\n",
              "    cursor: pointer;\n",
              "    display: none;\n",
              "    fill: var(--fill-color);\n",
              "    height: 32px;\n",
              "    padding: 0;\n",
              "    width: 32px;\n",
              "  }\n",
              "\n",
              "  .colab-df-quickchart:hover {\n",
              "    background-color: var(--hover-bg-color);\n",
              "    box-shadow: 0 1px 2px rgba(60, 64, 67, 0.3), 0 1px 3px 1px rgba(60, 64, 67, 0.15);\n",
              "    fill: var(--button-hover-fill-color);\n",
              "  }\n",
              "\n",
              "  .colab-df-quickchart-complete:disabled,\n",
              "  .colab-df-quickchart-complete:disabled:hover {\n",
              "    background-color: var(--disabled-bg-color);\n",
              "    fill: var(--disabled-fill-color);\n",
              "    box-shadow: none;\n",
              "  }\n",
              "\n",
              "  .colab-df-spinner {\n",
              "    border: 2px solid var(--fill-color);\n",
              "    border-color: transparent;\n",
              "    border-bottom-color: var(--fill-color);\n",
              "    animation:\n",
              "      spin 1s steps(1) infinite;\n",
              "  }\n",
              "\n",
              "  @keyframes spin {\n",
              "    0% {\n",
              "      border-color: transparent;\n",
              "      border-bottom-color: var(--fill-color);\n",
              "      border-left-color: var(--fill-color);\n",
              "    }\n",
              "    20% {\n",
              "      border-color: transparent;\n",
              "      border-left-color: var(--fill-color);\n",
              "      border-top-color: var(--fill-color);\n",
              "    }\n",
              "    30% {\n",
              "      border-color: transparent;\n",
              "      border-left-color: var(--fill-color);\n",
              "      border-top-color: var(--fill-color);\n",
              "      border-right-color: var(--fill-color);\n",
              "    }\n",
              "    40% {\n",
              "      border-color: transparent;\n",
              "      border-right-color: var(--fill-color);\n",
              "      border-top-color: var(--fill-color);\n",
              "    }\n",
              "    60% {\n",
              "      border-color: transparent;\n",
              "      border-right-color: var(--fill-color);\n",
              "    }\n",
              "    80% {\n",
              "      border-color: transparent;\n",
              "      border-right-color: var(--fill-color);\n",
              "      border-bottom-color: var(--fill-color);\n",
              "    }\n",
              "    90% {\n",
              "      border-color: transparent;\n",
              "      border-bottom-color: var(--fill-color);\n",
              "    }\n",
              "  }\n",
              "</style>\n",
              "\n",
              "      <script>\n",
              "        async function quickchart(key) {\n",
              "          const quickchartButtonEl =\n",
              "            document.querySelector('#' + key + ' button');\n",
              "          quickchartButtonEl.disabled = true;  // To prevent multiple clicks.\n",
              "          quickchartButtonEl.classList.add('colab-df-spinner');\n",
              "          try {\n",
              "            const charts = await google.colab.kernel.invokeFunction(\n",
              "                'suggestCharts', [key], {});\n",
              "          } catch (error) {\n",
              "            console.error('Error during call to suggestCharts:', error);\n",
              "          }\n",
              "          quickchartButtonEl.classList.remove('colab-df-spinner');\n",
              "          quickchartButtonEl.classList.add('colab-df-quickchart-complete');\n",
              "        }\n",
              "        (() => {\n",
              "          let quickchartButtonEl =\n",
              "            document.querySelector('#df-ccd2cffe-cb14-4404-afc1-2709552bcf26 button');\n",
              "          quickchartButtonEl.style.display =\n",
              "            google.colab.kernel.accessAllowed ? 'block' : 'none';\n",
              "        })();\n",
              "      </script>\n",
              "    </div>\n",
              "\n",
              "    </div>\n",
              "  </div>\n"
            ],
            "application/vnd.google.colaboratory.intrinsic+json": {
              "type": "dataframe",
              "summary": "{\n  \"name\": \"pd\",\n  \"rows\": 9,\n  \"fields\": [\n    {\n      \"column\": \"json_file\",\n      \"properties\": {\n        \"dtype\": \"string\",\n        \"num_unique_values\": 9,\n        \"samples\": [\n          \"labels_segmen_0007.json\",\n          \"labels_segmen_0002.json\",\n          \"labels_segmen_0008.json\"\n        ],\n        \"semantic_type\": \"\",\n        \"description\": \"\"\n      }\n    },\n    {\n      \"column\": \"image_files\",\n      \"properties\": {\n        \"dtype\": \"object\",\n        \"semantic_type\": \"\",\n        \"description\": \"\"\n      }\n    },\n    {\n      \"column\": \"status\",\n      \"properties\": {\n        \"dtype\": \"category\",\n        \"num_unique_values\": 1,\n        \"samples\": [\n          \"MATCHED\"\n        ],\n        \"semantic_type\": \"\",\n        \"description\": \"\"\n      }\n    }\n  ]\n}"
            }
          },
          "metadata": {},
          "execution_count": 12
        }
      ]
    },
    {
      "cell_type": "markdown",
      "source": [
        "# pipline image augmentation"
      ],
      "metadata": {
        "id": "EThF6qZdtGhL"
      }
    },
    {
      "cell_type": "code",
      "source": [
        "# Augmentasi pipeline\n",
        "transform = A.Compose([\n",
        "    A.HorizontalFlip(p=0.5),\n",
        "    A.VerticalFlip(p=0.2),\n",
        "    A.RandomRotate90(p=0.3),\n",
        "    A.ShiftScaleRotate(shift_limit=0.05, scale_limit=0.1, rotate_limit=15, p=0.5),\n",
        "    A.RandomBrightnessContrast(p=0.3),\n",
        "    A.HueSaturationValue(p=0.3),\n",
        "    A.RGBShift(p=0.3),\n",
        "    A.GaussNoise(p=0.2),\n",
        "    A.MotionBlur(p=0.1),\n",
        "    A.CLAHE(p=0.1),\n",
        "    A.ToGray(p=0.05)\n",
        "], bbox_params=A.BboxParams(format='coco', label_fields=['category_ids']))\n",
        "\n",
        "# Helper untuk mapping id → name\n",
        "augmented_images = []\n",
        "augmented_annotations = []\n",
        "ann_id = 10000  # Start from large to avoid conflict\n",
        "img_id = 1000\n",
        "\n",
        "# Daftar file gambar dan json\n",
        "image_files = [f for f in os.listdir(image_dir) if f.endswith(('.png'))]\n",
        "json_files = [f for f in os.listdir(json_path) if f.endswith('.json')]\n",
        "\n",
        "# Memastikan bahwa file gambar dan json dengan nama yang sama ada\n",
        "for img_file in image_files:\n",
        "    # Mengambil nama dasar (tanpa ekstensi)\n",
        "    img_basename = os.path.splitext(img_file)[0]\n",
        "\n",
        "    # Mencari pasangan file JSON berdasarkan nama dasar\n",
        "    json_file = f\"{img_basename}.json\"\n",
        "\n",
        "    if json_file in json_files:\n",
        "        # Jika file JSON ada, lanjutkan ke proses berikutnya\n",
        "        image_path = os.path.join(image_dir, img_file)\n",
        "        # FIX: json_dir was not defined, it should be json_path\n",
        "        json_file_path = os.path.join(json_path, json_file)\n",
        "\n",
        "        # Load gambar\n",
        "        image = cv2.imread(image_path)\n",
        "\n",
        "        # Load file JSON\n",
        "        with open(json_file_path) as f: # FIX: Use json_file_path here\n",
        "            coco = json.load(f)\n",
        "\n",
        "        # Dapatkan anotasi untuk gambar ini\n",
        "        anns = [a for a in coco['annotations'] if a['image_id'] == coco['images'][0]['id']]  # Sesuaikan dengan image_id yang tepat\n",
        "        bboxes = [a['bbox'] for a in anns]\n",
        "        cat_ids = [a['category_id'] for a in anns]\n",
        "\n",
        "        for i in range(50):  # 50 augmentasi per gambar\n",
        "            transformed = transform(image=image, bboxes=bboxes, category_ids=cat_ids)\n",
        "            aug_img = transformed['image']\n",
        "            aug_bboxes = transformed['bboxes']\n",
        "            aug_cats = transformed['category_ids']\n",
        "\n",
        "            new_filename = f\"{img_basename}_aug_{i}.png\"\n",
        "            cv2.imwrite(os.path.join(output_dir, new_filename), aug_img)\n",
        "\n",
        "            # Tambahkan entri image baru\n",
        "            new_img_id = img_id\n",
        "            augmented_images.append({\n",
        "                \"id\": new_img_id,\n",
        "                \"width\": aug_img.shape[1],\n",
        "                \"height\": aug_img.shape[0],\n",
        "                \"file_name\": new_filename\n",
        "            })\n",
        "\n",
        "            # Tambahkan anotasi\n",
        "            for bbox, cat_id in zip(aug_bboxes, aug_cats):\n",
        "                augmented_annotations.append({\n",
        "                    \"id\": ann_id,\n",
        "                    \"image_id\": new_img_id,\n",
        "                    \"category_id\": cat_id,\n",
        "                    \"bbox\": [float(round(x, 2)) for x in bbox],\n",
        "                    \"area\": float(round(bbox[2] * bbox[3], 2)),\n",
        "                    \"iscrowd\": 0,\n",
        "                    \"segmentation\": []  # Kosongkan segmentation jika tidak bisa dihitung ulang\n",
        "                })\n",
        "                ann_id += 1\n",
        "            img_id += 1\n",
        "    else:\n",
        "        print(f\"File JSON untuk gambar {img_file} tidak ditemukan!\")\n",
        "\n",
        "# Load the original coco file before merging\n",
        "with open(os.path.join(json_path, json_files[0])) as f: # Load the first json file as original\n",
        "    original_coco = json.load(f)\n",
        "\n",
        "# Gabungkan dengan original\n",
        "augmented_coco = {\n",
        "    \"info\": original_coco['info'], # Use original_coco here\n",
        "    \"images\": original_coco['images'] + augmented_images, # Use original_coco here\n",
        "    \"annotations\": original_coco['annotations'] + augmented_annotations, # Use original_coco here\n",
        "    \"categories\": original_coco['categories'] # Use original_coco here\n",
        "}\n",
        "\n",
        "# Simpan file baru\n",
        "with open(os.path.join(output_dir, 'augmented_annotations.json'), 'w') as f:\n",
        "    json.dump(augmented_coco, f, indent=2)\n",
        "\n",
        "print(f\"Augmentasi selesai. File anotasi disimpan di {output_dir}/augmented_annotations.json\")"
      ],
      "metadata": {
        "colab": {
          "base_uri": "https://localhost:8080/"
        },
        "id": "a5EYPQab7zTr",
        "outputId": "bf91cb78-b1b9-4fde-d6d0-8f9c3970ada9"
      },
      "execution_count": null,
      "outputs": [
        {
          "output_type": "stream",
          "name": "stdout",
          "text": [
            "Augmentasi selesai. File anotasi disimpan di /content/drive/MyDrive/PMLD_new/rock_dataset/augmented/augmented_annotations.json\n"
          ]
        }
      ]
    },
    {
      "cell_type": "code",
      "source": [],
      "metadata": {
        "id": "Isi8xVxUZAmu"
      },
      "execution_count": null,
      "outputs": []
    }
  ]
}